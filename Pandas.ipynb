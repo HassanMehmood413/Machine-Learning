{
  "cells": [
    {
      "cell_type": "markdown",
      "metadata": {
        "id": "view-in-github",
        "colab_type": "text"
      },
      "source": [
        "<a href=\"https://colab.research.google.com/github/HassanMehmood413/Machine-Learning/blob/main/Pandas.ipynb\" target=\"_parent\"><img src=\"https://colab.research.google.com/assets/colab-badge.svg\" alt=\"Open In Colab\"/></a>"
      ]
    },
    {
      "cell_type": "code",
      "execution_count": null,
      "metadata": {
        "colab": {
          "base_uri": "https://localhost:8080/"
        },
        "id": "RC6nXOVja8Wb",
        "outputId": "5fea51bc-53f5-4eb7-ce27-bb7286ac54d8"
      },
      "outputs": [
        {
          "output_type": "stream",
          "name": "stdout",
          "text": [
            "_______________________\n",
            "_______________________\n",
            "_______________________\n",
            "_______________________\n",
            "_______________________\n",
            "_______________________\n",
            "_______________________\n",
            "_______________________\n",
            "_______________________\n",
            "_______________________\n",
            "_______________________\n",
            "   City  Population\n",
            "0   FSD         NaN\n",
            "1  None      4994.0\n",
            "2   ISB      9000.0\n",
            "_______________________\n",
            "      City Population\n",
            "0      FSD    Unknown\n",
            "1  Unknown     4994.0\n",
            "2      ISB     9000.0\n",
            "_______________________\n",
            "  City  Population\n",
            "2  ISB      9000.0\n"
          ]
        }
      ],
      "source": [
        "# 1) import pandas library\n",
        "import pandas as pd\n",
        "# 2) Creating data\n",
        "data = {\n",
        "    'Name' : ['hassan','danish','ali'],\n",
        "    'City' : ['FSD' , 'LHR', \"ISB\"],\n",
        "    'Age' :  [22,21,24]\n",
        "}\n",
        "# 3)  This DataFrame is a function creates a frame\n",
        "df = pd.DataFrame(data)\n",
        "# print(df)\n",
        "print('_______________________')\n",
        "# 4)  To print head first 2\n",
        "# print(df.head(2))\n",
        "print('_______________________')\n",
        "# 5) To print tail last 1\n",
        "# print(df.tail(1))\n",
        "print('_______________________')\n",
        "# 6) info\n",
        "#This will gives the information related to the data (memory usage etc)\n",
        "# print(df.info())\n",
        "print('_______________________')\n",
        "# 7) Describe\n",
        "# This will gives us the different functions that are preformed on data numerical data like on AGE\n",
        "# print(df.describe())\n",
        "print('_______________________')\n",
        "# 8)shape (not a function):\n",
        "# This will gives us the no of rows and columns.\n",
        "# first index is row and second is colume.\n",
        "# print(df.shape) #(3, 3)\n",
        "# print(df.shape[0]) # first index gives us all rows\n",
        "# print(df.shape[1]) # gives us columns no\n",
        "print('_______________________')\n",
        "#9) iloc:\n",
        "# if you want to see specific rows and columns using iloc\n",
        "rows_columns = df.iloc[0:1,:] # first row from 0 to 1 and all colums\n",
        "# print(rows_columns)\n",
        "# if you want to check specific columns\n",
        "# print(df[['Name','City']])\n",
        "# print(df.iloc[1])\n",
        "print('_______________________')\n",
        "# 10)Filtering using df\n",
        "# This will filter age greater than 20\n",
        "# print(df[df['Age']>20])\n",
        "\n",
        "print('_______________________')\n",
        "# 11)Count classes in files\n",
        "# counts = df['Age'].value_counts()\n",
        "# As it gives us the age if we have two person of same age like 22 the count of 22 will be 2\n",
        "# print(counts)\n",
        "# 12) Plotting data in form of graphs for understanding\n",
        "# df['Age'].plot(kind = 'hist')\n",
        "# As it gives us a graph.\n",
        "print('_______________________')\n",
        "# 12)\n",
        "# to add a column in the dataframe\n",
        "# df['Degree'] = ['BSCS', 'BSSE' , 'BSIT']\n",
        "# print(df)\n",
        "print('_______________________')\n",
        "# Dropping a column\n",
        "# df = df.drop('Degree',axis=1)\n",
        "# print(df)\n",
        "print('_______________________')\n",
        "#13)Merging Dataframe\n",
        "#First we are creating a dataframe\n",
        "# data2 = {\n",
        "#     'City' : ['FSD' , 'LHR', \"ISB\"],\n",
        "#     'Population' : [1212,4994,9000],\n",
        "# }\n",
        "# df2 = pd.DataFrame(data2)\n",
        "# merged_df = pd.merge(df,df2,on='City')\n",
        "# print(merged_df)\n",
        "\n",
        "# 14) Handling Missing Values\n",
        "data3 = {\n",
        "    'City' : ['FSD' ,None, \"ISB\"],\n",
        "    'Population' : [None,4994,9000],\n",
        "}\n",
        "df3 = pd.DataFrame(data3)\n",
        "print(df3)\n",
        "print('_______________________')\n",
        "df3_filled = df3.fillna('Unknown')\n",
        "print(df3_filled)\n",
        "# You can also remove a full row if it contains none value\n",
        "print('_______________________')\n",
        "df3_dropped = df3.dropna()\n",
        "print(df3_dropped)\n",
        "\n",
        "\n"
      ]
    }
  ],
  "metadata": {
    "colab": {
      "provenance": [],
      "authorship_tag": "ABX9TyPZWe3+S6iIZp2PGFyM+qEn",
      "include_colab_link": true
    },
    "kernelspec": {
      "display_name": "Python 3",
      "name": "python3"
    },
    "language_info": {
      "name": "python"
    }
  },
  "nbformat": 4,
  "nbformat_minor": 0
}