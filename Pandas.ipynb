{
  "nbformat": 4,
  "nbformat_minor": 0,
  "metadata": {
    "colab": {
      "provenance": []
    },
    "kernelspec": {
      "name": "python3",
      "display_name": "Python 3"
    },
    "language_info": {
      "name": "python"
    }
  },
  "cells": [
    {
      "cell_type": "code",
      "execution_count": 29,
      "metadata": {
        "colab": {
          "base_uri": "https://localhost:8080/",
          "height": 586
        },
        "id": "RC6nXOVja8Wb",
        "outputId": "fc9253d2-bd97-49ab-ad5e-caaf8e371fe8"
      },
      "outputs": [
        {
          "output_type": "stream",
          "name": "stdout",
          "text": [
            "_______________________\n",
            "_______________________\n",
            "_______________________\n",
            "_______________________\n",
            "_______________________\n",
            "_______________________\n",
            "_______________________\n",
            "_______________________\n"
          ]
        },
        {
          "output_type": "execute_result",
          "data": {
            "text/plain": [
              "<Axes: ylabel='Frequency'>"
            ]
          },
          "metadata": {},
          "execution_count": 29
        },
        {
          "output_type": "display_data",
          "data": {
            "text/plain": [
              "<Figure size 640x480 with 1 Axes>"
            ],
            "image/png": "[encoded data removed]"
          },
          "metadata": {}
        }
      ],
      "source": [
        "# 1) import pandas library\n",
        "import pandas as pd\n",
        "# 2) Creating data\n",
        "data = {\n",
        "    'Name' : ['hassan','danish','ali'],\n",
        "    'City' : ['FSD' , 'LHR', \"ISB\"],\n",
        "    'Age' :  [22,21,24]\n",
        "}\n",
        "# 3)  This DataFrame is a function creates a frame\n",
        "df = pd.DataFrame(data)\n",
        "# print(df)\n",
        "print('_______________________')\n",
        "# 4)  To print head first 2\n",
        "# print(df.head(2))\n",
        "print('_______________________')\n",
        "# 5) To print tail last 1\n",
        "# print(df.tail(1))\n",
        "print('_______________________')\n",
        "# 6) info\n",
        "#This will gives the information related to the data (memory usage etc)\n",
        "# print(df.info())\n",
        "print('_______________________')\n",
        "# 7) Describe\n",
        "# This will gives us the different functions that are preformed on data numerical data like on AGE\n",
        "# print(df.describe())\n",
        "print('_______________________')\n",
        "# 8)shape (not a function):\n",
        "# This will gives us the no of rows and columns.\n",
        "# first index is row and second is colume.\n",
        "# print(df.shape) #(3, 3)\n",
        "# print(df.shape[0]) # first index gives us all rows\n",
        "# print(df.shape[1]) # gives us columns no\n",
        "print('_______________________')\n",
        "#9) iloc:\n",
        "# if you want to see specific rows and columns using iloc\n",
        "rows_columns = df.iloc[0:1,:] # first row from 0 to 1 and all colums\n",
        "# print(rows_columns)\n",
        "# if you want to check specific columns\n",
        "# print(df[['Name','City']])\n",
        "# print(df.iloc[1])\n",
        "print('_______________________')\n",
        "# 10)Filtering using df\n",
        "# This will filter age greater than 20\n",
        "# print(df[df['Age']>20])\n",
        "\n",
        "print('_______________________')\n",
        "# 11)Count classes in files\n",
        "# counts = df['Age'].value_counts()\n",
        "# As it gives us the age if we have two person of same age like 22 the count of 22 will be 2\n",
        "# print(counts)\n",
        "# 12) Plotting data in form of graphs for understanding\n",
        "df['Age'].plot(kind = 'hist')\n",
        "# As it gives us a graph.\n"
      ]
    },
    {
      "cell_type": "code",
      "source": [],
      "metadata": {
        "id": "QlRMyMK7dSSY"
      },
      "execution_count": null,
      "outputs": []
    }
  ]
}