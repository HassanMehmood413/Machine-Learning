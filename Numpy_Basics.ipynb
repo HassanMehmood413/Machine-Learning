{
  "nbformat": 4,
  "nbformat_minor": 0,
  "metadata": {
    "colab": {
      "provenance": [],
      "authorship_tag": "ABX9TyNCvHo4mYT7vgvLGKQk7uk9",
      "include_colab_link": true
    },
    "kernelspec": {
      "name": "python3",
      "display_name": "Python 3"
    },
    "language_info": {
      "name": "python"
    }
  },
  "cells": [
    {
      "cell_type": "markdown",
      "metadata": {
        "id": "view-in-github",
        "colab_type": "text"
      },
      "source": [
        "<a href=\"https://colab.research.google.com/github/HassanMehmood413/Machine-Learning/blob/main/Numpy_Basics.ipynb\" target=\"_parent\"><img src=\"https://colab.research.google.com/assets/colab-badge.svg\" alt=\"Open In Colab\"/></a>"
      ]
    },
    {
      "cell_type": "code",
      "execution_count": 81,
      "metadata": {
        "colab": {
          "base_uri": "https://localhost:8080/"
        },
        "id": "ZVj_atVFygc4",
        "outputId": "4aa42be2-54d2-437e-e5ee-adb4e164bf9b"
      },
      "outputs": [
        {
          "output_type": "stream",
          "name": "stdout",
          "text": [
            "[[ 1  1  2]\n",
            " [11 22 33]]\n",
            "[12 23 35]\n"
          ]
        }
      ],
      "source": [
        "from typing import Concatenate\n",
        "# Numpy basics\n",
        "import numpy as np\n",
        "\n",
        "# 1. Creating an array:\n",
        "# arr = np.array([1,2,3,4,5])\n",
        "# print(arr)\n",
        "\n",
        "# 2. Array of zeros and ones:\n",
        "# arr = np.zeros([4])\n",
        "# print(arr)\n",
        "# arr = np.ones([5])\n",
        "# print(arr)\n",
        "\n",
        "# 3. Range of array:\n",
        "# range_arr = np.arange(8)\n",
        "# print(range_arr)\n",
        "\n",
        "# 4. Reshaping of array:\n",
        "# arr = np.array([1,2,3,4,5,6])\n",
        "# print(arr)\n",
        "# reshape_arr = arr.reshape(2,3)\n",
        "# print(reshape_arr)\n",
        "\n",
        "# 5. Basic operations (Add, Multiply,Subtract,Division)\n",
        "# arr1 = np.arange(10)\n",
        "# arr2 = [1,2,3,4,5,1,2,3,4,5]\n",
        "# add\n",
        "# print(np.add(arr1,arr2))\n",
        "# subtract\n",
        "# print(np.subtract(arr1,arr2))\n",
        "# Multiply\n",
        "# print(np.multiply(arr1,arr2))\n",
        "# Divide\n",
        "# print(np.divide(arr1,arr2))\n",
        "\n",
        "# 6. Array Statistics:\n",
        "# arr2 = [1,2,3,4,5,1,2,3,4,5]\n",
        "# print(np.mean(arr2))\n",
        "# print(np.sum(arr2))\n",
        "# print(np.min(arr2))\n",
        "# print(np.max(arr2))\n",
        "\n",
        "# 7. Indexing and Slicing\n",
        "# arr2 = [1,2,3,4,5,1,2,3,4,5]\n",
        "# print(arr2[0:5])\n",
        "\n",
        "# 8. Random Numbers:\n",
        "# print(np.random.randint(1111))\n",
        "# print(np.random.rand(3))\n",
        "\n",
        "# 9. Identity Matrix:\n",
        "# Diagonal entries must be 1\n",
        "# print(np.eye(4))\n",
        "\n",
        "# 10. Flatten Array:\n",
        "# Concat both array\n",
        "# arr2 = np.array([[1,2,3,4,5],[1,2,3,4,5]])\n",
        "# print(arr2.flatten())\n",
        "\n",
        "# 11. Transpose of array/Matrix:\n",
        "# arr2 = np.array([[1,2,3,4,5],[1,2,3,4,5]])\n",
        "# print(arr2.transpose())\n",
        "\n",
        "# 12. Concatenate two arrays:\n",
        "# arr1 = np.array([1,2,3,4,5])\n",
        "# arr2 = np.array([1,2,3,4,5])\n",
        "# print(np.concatenate((arr1,arr2)))\n",
        "\n",
        "# 13. Unique Elements in array:\n",
        "# arr1 = np.array([1,1,2,2,3])\n",
        "# print(np.unique(arr1))\n",
        "\n",
        "# 14. Sum along axis:\n",
        "# arr1 = np.array([[1,1,2],[11,22,33]])\n",
        "# print(arr1)\n",
        "# Axis  = 0 means y Axis\n",
        "# Axis  = 0 means x Axis\n",
        "# print(np.sum(arr1,axis = 0))\n",
        "\n",
        "\n"
      ]
    }
  ]
}